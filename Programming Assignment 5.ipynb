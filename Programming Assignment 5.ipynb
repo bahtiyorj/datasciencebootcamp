{
 "cells": [
  {
   "cell_type": "markdown",
   "id": "b8280e43",
   "metadata": {},
   "source": [
    "# Programming Assignment 5"
   ]
  },
  {
   "cell_type": "markdown",
   "id": "f5f753b2",
   "metadata": {},
   "source": [
    "1. Write a Python Program to Find LCM?"
   ]
  },
  {
   "cell_type": "code",
   "execution_count": 1,
   "id": "d5a0ee64",
   "metadata": {},
   "outputs": [],
   "source": [
    "def findLCM(l):\n",
    "    max_limit = 1\n",
    "    for i in l:\n",
    "        max_limit *= i\n",
    "    for i in range(max(l), max_limit+1):\n",
    "        if [num for num in l if i % num == 0] == l:\n",
    "            return i"
   ]
  },
  {
   "cell_type": "code",
   "execution_count": 2,
   "id": "01702965",
   "metadata": {},
   "outputs": [
    {
     "data": {
      "text/plain": [
       "300"
      ]
     },
     "execution_count": 2,
     "metadata": {},
     "output_type": "execute_result"
    }
   ],
   "source": [
    "findLCM([12, 15, 75])"
   ]
  },
  {
   "cell_type": "code",
   "execution_count": 3,
   "id": "c42399eb",
   "metadata": {},
   "outputs": [
    {
     "data": {
      "text/plain": [
       "17917"
      ]
     },
     "execution_count": 3,
     "metadata": {},
     "output_type": "execute_result"
    }
   ],
   "source": [
    "findLCM([19, 23, 41])"
   ]
  },
  {
   "cell_type": "markdown",
   "id": "126788fc",
   "metadata": {},
   "source": [
    "2. Write a Python Program to Find HCF?"
   ]
  },
  {
   "cell_type": "code",
   "execution_count": 4,
   "id": "6a1f1641",
   "metadata": {},
   "outputs": [],
   "source": [
    "def findHCF(l):\n",
    "    for i in range(min(l)+1, 0, -1):\n",
    "        if [num for num in l if num % i == 0] == l:\n",
    "            return i"
   ]
  },
  {
   "cell_type": "code",
   "execution_count": 5,
   "id": "0a9a9dd2",
   "metadata": {},
   "outputs": [
    {
     "data": {
      "text/plain": [
       "4"
      ]
     },
     "execution_count": 5,
     "metadata": {},
     "output_type": "execute_result"
    }
   ],
   "source": [
    "findHCF([8, 12, 20])"
   ]
  },
  {
   "cell_type": "code",
   "execution_count": 6,
   "id": "538e486b",
   "metadata": {},
   "outputs": [
    {
     "data": {
      "text/plain": [
       "9"
      ]
     },
     "execution_count": 6,
     "metadata": {},
     "output_type": "execute_result"
    }
   ],
   "source": [
    "findHCF([18, 27, 81, 90])"
   ]
  },
  {
   "cell_type": "markdown",
   "id": "824569d8",
   "metadata": {},
   "source": [
    "3. Write a Python Program to Convert Decimal to Binary, Octal and Hexadecimal?"
   ]
  },
  {
   "cell_type": "code",
   "execution_count": 7,
   "id": "38d4214d",
   "metadata": {},
   "outputs": [],
   "source": [
    "def convert_decimal(d):\n",
    "    return {'binary': bin(d)[2:], 'octal': oct(d)[2:], 'hexadecimal': hex(d)[2:]}"
   ]
  },
  {
   "cell_type": "code",
   "execution_count": 8,
   "id": "db256c99",
   "metadata": {},
   "outputs": [
    {
     "data": {
      "text/plain": [
       "{'binary': '1010', 'octal': '12', 'hexadecimal': 'a'}"
      ]
     },
     "execution_count": 8,
     "metadata": {},
     "output_type": "execute_result"
    }
   ],
   "source": [
    "convert_decimal(10)"
   ]
  },
  {
   "cell_type": "code",
   "execution_count": 9,
   "id": "cdea99cb",
   "metadata": {},
   "outputs": [
    {
     "data": {
      "text/plain": [
       "{'binary': '11111111', 'octal': '377', 'hexadecimal': 'ff'}"
      ]
     },
     "execution_count": 9,
     "metadata": {},
     "output_type": "execute_result"
    }
   ],
   "source": [
    "convert_decimal(255)"
   ]
  },
  {
   "cell_type": "code",
   "execution_count": 10,
   "id": "40590b23",
   "metadata": {},
   "outputs": [
    {
     "data": {
      "text/plain": [
       "{'binary': '0', 'octal': '0', 'hexadecimal': '0'}"
      ]
     },
     "execution_count": 10,
     "metadata": {},
     "output_type": "execute_result"
    }
   ],
   "source": [
    "convert_decimal(0)"
   ]
  },
  {
   "cell_type": "markdown",
   "id": "42ef2b0b",
   "metadata": {},
   "source": [
    "4. Write a Python Program To Find ASCII value of a character?"
   ]
  },
  {
   "cell_type": "code",
   "execution_count": 11,
   "id": "1caefa26",
   "metadata": {},
   "outputs": [
    {
     "name": "stdout",
     "output_type": "stream",
     "text": [
      "Z\n",
      "90\n"
     ]
    }
   ],
   "source": [
    "char = input()\n",
    "print(ord(char))"
   ]
  },
  {
   "cell_type": "markdown",
   "id": "772bc762",
   "metadata": {},
   "source": [
    "5. Write a Python Program to Make a Simple Calculator with 4 basic mathematical operations?"
   ]
  },
  {
   "cell_type": "code",
   "execution_count": 12,
   "id": "5e6449c8",
   "metadata": {},
   "outputs": [],
   "source": [
    "def calculator():\n",
    "    try:\n",
    "        num1 = int(input('Enter first number: '))\n",
    "        op = input('Enter mathematical operation: ')\n",
    "        if op not in '+-*/':\n",
    "            raise Exception\n",
    "        num2 = int(input('Enter second number: '))\n",
    "        result = eval(str(num1) + op + str(num2))\n",
    "        print(result)\n",
    "    except:\n",
    "        print('ERROR: enter a valid input.')"
   ]
  },
  {
   "cell_type": "code",
   "execution_count": 13,
   "id": "69dc4466",
   "metadata": {},
   "outputs": [
    {
     "name": "stdout",
     "output_type": "stream",
     "text": [
      "Enter first number: 20\n",
      "Enter mathematical operation: +\n",
      "Enter second number: 5\n",
      "25\n"
     ]
    }
   ],
   "source": [
    "calculator()"
   ]
  },
  {
   "cell_type": "code",
   "execution_count": 14,
   "id": "6d461b94",
   "metadata": {},
   "outputs": [
    {
     "name": "stdout",
     "output_type": "stream",
     "text": [
      "Enter first number: 20\n",
      "Enter mathematical operation: -\n",
      "Enter second number: 5\n",
      "15\n"
     ]
    }
   ],
   "source": [
    "calculator()"
   ]
  },
  {
   "cell_type": "code",
   "execution_count": 15,
   "id": "5f1b9856",
   "metadata": {},
   "outputs": [
    {
     "name": "stdout",
     "output_type": "stream",
     "text": [
      "Enter first number: 20\n",
      "Enter mathematical operation: *\n",
      "Enter second number: 5\n",
      "100\n"
     ]
    }
   ],
   "source": [
    "calculator()"
   ]
  },
  {
   "cell_type": "code",
   "execution_count": 16,
   "id": "c8e0a82d",
   "metadata": {},
   "outputs": [
    {
     "name": "stdout",
     "output_type": "stream",
     "text": [
      "Enter first number: 20\n",
      "Enter mathematical operation: /\n",
      "Enter second number: 5\n",
      "4.0\n"
     ]
    }
   ],
   "source": [
    "calculator()"
   ]
  },
  {
   "cell_type": "code",
   "execution_count": 17,
   "id": "12cd9335",
   "metadata": {},
   "outputs": [
    {
     "name": "stdout",
     "output_type": "stream",
     "text": [
      "Enter first number: w\n",
      "ERROR: enter a valid input.\n"
     ]
    }
   ],
   "source": [
    "calculator()"
   ]
  },
  {
   "cell_type": "code",
   "execution_count": 18,
   "id": "7ab3b427",
   "metadata": {},
   "outputs": [
    {
     "name": "stdout",
     "output_type": "stream",
     "text": [
      "Enter first number: 6\n",
      "Enter mathematical operation: ,\n",
      "ERROR: enter a valid input.\n"
     ]
    }
   ],
   "source": [
    "calculator()"
   ]
  },
  {
   "cell_type": "code",
   "execution_count": 19,
   "id": "36980804",
   "metadata": {},
   "outputs": [
    {
     "name": "stdout",
     "output_type": "stream",
     "text": [
      "Enter first number: 0\n",
      "Enter mathematical operation: /\n",
      "Enter second number: g\n",
      "ERROR: enter a valid input.\n"
     ]
    }
   ],
   "source": [
    "calculator()"
   ]
  },
  {
   "cell_type": "code",
   "execution_count": 20,
   "id": "eacddade",
   "metadata": {},
   "outputs": [
    {
     "name": "stdout",
     "output_type": "stream",
     "text": [
      "Enter first number: 9\n",
      "Enter mathematical operation: /\n",
      "Enter second number: 0\n",
      "ERROR: enter a valid input.\n"
     ]
    }
   ],
   "source": [
    "calculator()"
   ]
  }
 ],
 "metadata": {
  "kernelspec": {
   "display_name": "Python 3 (ipykernel)",
   "language": "python",
   "name": "python3"
  },
  "language_info": {
   "codemirror_mode": {
    "name": "ipython",
    "version": 3
   },
   "file_extension": ".py",
   "mimetype": "text/x-python",
   "name": "python",
   "nbconvert_exporter": "python",
   "pygments_lexer": "ipython3",
   "version": "3.11.3"
  }
 },
 "nbformat": 4,
 "nbformat_minor": 5
}
