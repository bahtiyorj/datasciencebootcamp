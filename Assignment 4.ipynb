{
 "cells": [
  {
   "cell_type": "markdown",
   "id": "32d3d740",
   "metadata": {},
   "source": [
    "# Assignment 4"
   ]
  },
  {
   "cell_type": "markdown",
   "id": "fba504bc",
   "metadata": {},
   "source": [
    "1. What exactly is []?"
   ]
  },
  {
   "cell_type": "markdown",
   "id": "1c01ba5c",
   "metadata": {},
   "source": [
    "[] is an empty list in Python."
   ]
  },
  {
   "cell_type": "markdown",
   "id": "50551f38",
   "metadata": {},
   "source": [
    "2. In a list of values stored in a variable called spam, how would you assign the value &#39;hello&#39; as the\n",
    "third value? (Assume [2, 4, 6, 8, 10] are in spam.)"
   ]
  },
  {
   "cell_type": "code",
   "execution_count": null,
   "id": "e0242c3b",
   "metadata": {},
   "outputs": [],
   "source": [
    "spam[2] = 'hello'"
   ]
  },
  {
   "cell_type": "markdown",
   "id": "dff71424",
   "metadata": {},
   "source": [
    "Let&#39;s pretend the spam includes the list [&#39;a&#39;, &#39;b&#39;, &#39;c&#39;, &#39;d&#39;] for the next three queries."
   ]
  },
  {
   "cell_type": "markdown",
   "id": "fdbfb128",
   "metadata": {},
   "source": [
    "3. What is the value of spam[int(int(&#39;3&#39; * 2) / 11)]?"
   ]
  },
  {
   "cell_type": "markdown",
   "id": "46bfd1e0",
   "metadata": {},
   "source": [
    "'d'"
   ]
  },
  {
   "cell_type": "markdown",
   "id": "a1ba4c74",
   "metadata": {},
   "source": [
    "4. What is the value of spam[-1]?"
   ]
  },
  {
   "cell_type": "markdown",
   "id": "dd412b88",
   "metadata": {},
   "source": [
    "'d'"
   ]
  },
  {
   "cell_type": "markdown",
   "id": "1eb2ea09",
   "metadata": {},
   "source": [
    "5. What is the value of spam[:2]?"
   ]
  },
  {
   "cell_type": "code",
   "execution_count": null,
   "id": "41ff3851",
   "metadata": {},
   "outputs": [],
   "source": [
    "['a','b']"
   ]
  },
  {
   "cell_type": "markdown",
   "id": "646a0f12",
   "metadata": {},
   "source": [
    "Let&#39;s pretend bacon has the list [3.14, &#39;cat,&#39; 11, &#39;cat,&#39; True] for the next three questions."
   ]
  },
  {
   "cell_type": "markdown",
   "id": "76f767e2",
   "metadata": {},
   "source": [
    "6. What is the value of bacon.index(&#39;cat&#39;)?"
   ]
  },
  {
   "cell_type": "markdown",
   "id": "22c2f98f",
   "metadata": {},
   "source": [
    "1"
   ]
  },
  {
   "cell_type": "markdown",
   "id": "c1f5ad9a",
   "metadata": {},
   "source": [
    "7. How does bacon.append(99) change the look of the list value in bacon?"
   ]
  },
  {
   "cell_type": "code",
   "execution_count": null,
   "id": "0ffdadb9",
   "metadata": {},
   "outputs": [],
   "source": [
    "[3.14, 'cat', 11, 'cat', True, 99]"
   ]
  },
  {
   "cell_type": "markdown",
   "id": "d12d1f2c",
   "metadata": {},
   "source": [
    "8. How does bacon.remove(&#39;cat&#39;) change the look of the list in bacon?"
   ]
  },
  {
   "cell_type": "code",
   "execution_count": null,
   "id": "294efb61",
   "metadata": {},
   "outputs": [],
   "source": [
    "[3.14, 11, 'cat', True, 99]"
   ]
  },
  {
   "cell_type": "markdown",
   "id": "967f015d",
   "metadata": {},
   "source": [
    "9. What are the list concatenation and list replication operators?"
   ]
  },
  {
   "cell_type": "markdown",
   "id": "8064d630",
   "metadata": {},
   "source": [
    "List concatenation: +<br>\n",
    "List replication: *"
   ]
  },
  {
   "cell_type": "markdown",
   "id": "d7278663",
   "metadata": {},
   "source": [
    "10. What is difference between the list methods append() and insert()?"
   ]
  },
  {
   "cell_type": "markdown",
   "id": "c8663617",
   "metadata": {},
   "source": [
    "The append() method adds a value to the end of the list, while the insert() method inserts a value at a specific index."
   ]
  },
  {
   "cell_type": "markdown",
   "id": "fadc1562",
   "metadata": {},
   "source": [
    "11. What are the two methods for removing items from a list?"
   ]
  },
  {
   "cell_type": "markdown",
   "id": "31c3ea7a",
   "metadata": {},
   "source": [
    "pop()<br>\n",
    "remove()"
   ]
  },
  {
   "cell_type": "markdown",
   "id": "6fc95bec",
   "metadata": {},
   "source": [
    "12. Describe how list values and string values are identical."
   ]
  },
  {
   "cell_type": "markdown",
   "id": "73db6fcb",
   "metadata": {},
   "source": [
    "Both list values and string values are sequences that support indexing, slicing, and iteration."
   ]
  },
  {
   "cell_type": "markdown",
   "id": "d2b795cb",
   "metadata": {},
   "source": [
    "13. What&#39;s the difference between tuples and lists?"
   ]
  },
  {
   "cell_type": "markdown",
   "id": "6572d17a",
   "metadata": {},
   "source": [
    "Tuples are immutable, meaning their elements cannot be changed after creation. Lists are mutable, meaning their elements can be changed after creation. Tuples are created with parentheses () while lists are created with square brackets []."
   ]
  },
  {
   "cell_type": "markdown",
   "id": "86edb006",
   "metadata": {},
   "source": [
    "14. How do you type a tuple value that only contains the integer 42?"
   ]
  },
  {
   "cell_type": "code",
   "execution_count": null,
   "id": "08c2dd44",
   "metadata": {},
   "outputs": [],
   "source": [
    "(42,)"
   ]
  },
  {
   "cell_type": "markdown",
   "id": "df831d1b",
   "metadata": {},
   "source": [
    "15. How do you get a list value&#39;s tuple form? How do you get a tuple value&#39;s list form?"
   ]
  },
  {
   "cell_type": "code",
   "execution_count": null,
   "id": "0ad15488",
   "metadata": {},
   "outputs": [],
   "source": [
    "tuple(mylist)\n",
    "list(mytuple)"
   ]
  },
  {
   "cell_type": "markdown",
   "id": "31d3cf36",
   "metadata": {},
   "source": [
    "16. Variables that &quot;contain&quot; list values are not necessarily lists themselves. Instead, what do they\n",
    "contain?"
   ]
  },
  {
   "cell_type": "markdown",
   "id": "ac69e53b",
   "metadata": {},
   "source": [
    "Variables contain references to the list objects, not the actual lists themselves."
   ]
  },
  {
   "cell_type": "markdown",
   "id": "110f1a17",
   "metadata": {},
   "source": [
    "17. How do you distinguish between copy.copy() and copy.deepcopy()?"
   ]
  },
  {
   "cell_type": "markdown",
   "id": "fcade485",
   "metadata": {},
   "source": [
    "copy.copy() creates a shallow copy of the object, including any nested objects, but not creating new copies of those nested objects. copy.deepcopy() creates a deep copy, making new copies of all nested objects."
   ]
  }
 ],
 "metadata": {
  "kernelspec": {
   "display_name": "Python 3 (ipykernel)",
   "language": "python",
   "name": "python3"
  },
  "language_info": {
   "codemirror_mode": {
    "name": "ipython",
    "version": 3
   },
   "file_extension": ".py",
   "mimetype": "text/x-python",
   "name": "python",
   "nbconvert_exporter": "python",
   "pygments_lexer": "ipython3",
   "version": "3.11.3"
  }
 },
 "nbformat": 4,
 "nbformat_minor": 5
}
