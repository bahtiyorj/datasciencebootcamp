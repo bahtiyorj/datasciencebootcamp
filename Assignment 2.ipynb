{
 "cells": [
  {
   "cell_type": "markdown",
   "id": "a235f7bc",
   "metadata": {},
   "source": [
    "# Assignment 2"
   ]
  },
  {
   "cell_type": "markdown",
   "id": "f4f1ce9a",
   "metadata": {},
   "source": [
    "Question 1: What are the two values of the Boolean data type? How do you write them?"
   ]
  },
  {
   "cell_type": "markdown",
   "id": "c78d3183",
   "metadata": {},
   "source": [
    "The two values of the Boolean data type are True and False. They are written exactly as shown: True and False."
   ]
  },
  {
   "cell_type": "markdown",
   "id": "c88deecd",
   "metadata": {},
   "source": [
    "Question 2: What are the three different types of Boolean operators?"
   ]
  },
  {
   "cell_type": "markdown",
   "id": "5330e47d",
   "metadata": {},
   "source": [
    "The three different types of Boolean operators are AND, OR, and NOT."
   ]
  },
  {
   "cell_type": "markdown",
   "id": "78e44465",
   "metadata": {},
   "source": [
    "Question 3: Make a list of each Boolean operator's truth tables (i.e. every possible combination of Boolean\n",
    "values for the operator and what it evaluate )."
   ]
  },
  {
   "cell_type": "code",
   "execution_count": null,
   "id": "c7091d68",
   "metadata": {},
   "outputs": [],
   "source": [
    "True and True   -> True\n",
    "True and False  -> False\n",
    "False and True  -> False\n",
    "False and False -> False"
   ]
  },
  {
   "cell_type": "code",
   "execution_count": null,
   "id": "0e588136",
   "metadata": {},
   "outputs": [],
   "source": [
    "True or True    -> True\n",
    "True or False   -> True\n",
    "False or True   -> True\n",
    "False or False  -> False"
   ]
  },
  {
   "cell_type": "code",
   "execution_count": null,
   "id": "703a3d05",
   "metadata": {},
   "outputs": [],
   "source": [
    "not True  -> False\n",
    "not False -> True"
   ]
  },
  {
   "cell_type": "markdown",
   "id": "0e9cec4d",
   "metadata": {},
   "source": [
    "Question 4: What are the values of the following expressions?"
   ]
  },
  {
   "cell_type": "code",
   "execution_count": null,
   "id": "68b3a17c",
   "metadata": {},
   "outputs": [],
   "source": [
    "(5 > 4) and (3 == 5)                -> False\n",
    "not (5 > 4)                         -> False\n",
    "(5 > 4) or (3 == 5)                 -> True\n",
    "not ((5 > 4) or (3 == 5))           -> False\n",
    "(True and True) and (True == False) -> False\n",
    "(not False) or (not True)           -> True"
   ]
  },
  {
   "cell_type": "markdown",
   "id": "489f01d8",
   "metadata": {},
   "source": [
    "Question 5: What are the six comparison operators?"
   ]
  },
  {
   "cell_type": "markdown",
   "id": "32da1e12",
   "metadata": {},
   "source": [
    "Equal: ==<br>\n",
    "Not equal: !=<br>\n",
    "Greater than: ><br>\n",
    "Greater than or equal to: >=<br>\n",
    "Less than: <<br>\n",
    "Less than or equak to: <="
   ]
  },
  {
   "cell_type": "markdown",
   "id": "476f191c",
   "metadata": {},
   "source": [
    "Question 6: How do you tell the difference between the equal to and assignment operators? Describe a\n",
    "condition and when you would use one."
   ]
  },
  {
   "cell_type": "markdown",
   "id": "1c058994",
   "metadata": {},
   "source": [
    "The equal to operator (==) checks if two values are equal. It is used for comparison. For example, x == y checks if the variable x is equal to the variable y.<br>\n",
    "The assignment operator (=) assigns a value to a variable. For example, x = 10 assigns the value 10 to the variable x."
   ]
  },
  {
   "cell_type": "markdown",
   "id": "0003b06d",
   "metadata": {},
   "source": [
    "Question 7: Identify the three blocks in this code:"
   ]
  },
  {
   "cell_type": "code",
   "execution_count": null,
   "id": "e613ad07",
   "metadata": {},
   "outputs": [],
   "source": [
    "spam = 0\n",
    "if spam == 10:\n",
    "    print('eggs')\n",
    "if spam > 5:\n",
    "    print('bacon')\n",
    "else:\n",
    "    print('ham')\n",
    "print('spam')\n",
    "print('spam')"
   ]
  },
  {
   "cell_type": "markdown",
   "id": "4a929457",
   "metadata": {},
   "source": [
    "1. print('eggs')\n",
    "2. print('bacon')\n",
    "3. print('ham')"
   ]
  },
  {
   "cell_type": "markdown",
   "id": "498931b1",
   "metadata": {},
   "source": [
    "Question 8: Write code that prints Hello if 1 is stored in spam, prints Howdy if 2 is stored in spam, and prints\n",
    "Greetings! if anything else is stored in spam."
   ]
  },
  {
   "cell_type": "code",
   "execution_count": null,
   "id": "41865b32",
   "metadata": {},
   "outputs": [],
   "source": [
    "spam = 0\n",
    "if spam == 1:\n",
    "    print('Hello')\n",
    "elif spam == 2:\n",
    "    print('Howdy')\n",
    "else:\n",
    "    print('Greetings!')"
   ]
  },
  {
   "cell_type": "markdown",
   "id": "55fb979e",
   "metadata": {},
   "source": [
    "Question 9: If your programme is stuck in an endless loop, what keys you’ll press?"
   ]
  },
  {
   "cell_type": "markdown",
   "id": "8e4c4b86",
   "metadata": {},
   "source": [
    "For Jupyter Notebook, a program can interrupt an endless loop by pressing 'i,i' (press the 'i' key twice quickly) in command mode."
   ]
  },
  {
   "cell_type": "markdown",
   "id": "7e31b2f4",
   "metadata": {},
   "source": [
    "Question 10: How can you tell the difference between break and continue?"
   ]
  },
  {
   "cell_type": "markdown",
   "id": "8bb36025",
   "metadata": {},
   "source": [
    "The break statement is used to exit the loop entirely, while the continue statement is used to skip the current iteration and move on to the next iteration of the loop."
   ]
  },
  {
   "cell_type": "markdown",
   "id": "40c37f13",
   "metadata": {},
   "source": [
    "Question 11: In a for loop, what is the difference between range(10), range(0, 10), and range(0, 10, 1)?"
   ]
  },
  {
   "cell_type": "markdown",
   "id": "24a805ea",
   "metadata": {},
   "source": [
    "range(10) automatically generates numbers from 0 to 9.<br>\n",
    "range(0, 10) does the same as range(10), but you are defining the starting point of 0 and the endpoint of 10 (exclusively).<br>\n",
    "range(0, 10, 1) does the same as the other two, but not only are you defining the starting and endpoint, you are also defining how much each increment toward the endpoint is."
   ]
  },
  {
   "cell_type": "markdown",
   "id": "700ad913",
   "metadata": {},
   "source": [
    "Question 12: Write a short program that prints the numbers 1 to 10 using a for loop. Then write an equivalent\n",
    "program that prints the numbers 1 to 10 using a while loop."
   ]
  },
  {
   "cell_type": "code",
   "execution_count": 1,
   "id": "9b4654fa",
   "metadata": {},
   "outputs": [
    {
     "name": "stdout",
     "output_type": "stream",
     "text": [
      "1\n",
      "2\n",
      "3\n",
      "4\n",
      "5\n",
      "6\n",
      "7\n",
      "8\n",
      "9\n",
      "10\n"
     ]
    }
   ],
   "source": [
    "for n in range(1,11):\n",
    "    print(n)"
   ]
  },
  {
   "cell_type": "code",
   "execution_count": 2,
   "id": "c02e20b0",
   "metadata": {},
   "outputs": [
    {
     "name": "stdout",
     "output_type": "stream",
     "text": [
      "1\n",
      "2\n",
      "3\n",
      "4\n",
      "5\n",
      "6\n",
      "7\n",
      "8\n",
      "9\n",
      "10\n"
     ]
    }
   ],
   "source": [
    "n = 1\n",
    "while n < 11:\n",
    "    print(n)\n",
    "    n += 1"
   ]
  },
  {
   "cell_type": "markdown",
   "id": "d9a6a606",
   "metadata": {},
   "source": [
    "Question 13: If you had a function named bacon() inside a module named spam, how would you call it after\n",
    "importing spam?"
   ]
  },
  {
   "cell_type": "code",
   "execution_count": null,
   "id": "f0ee1cbb",
   "metadata": {},
   "outputs": [],
   "source": [
    "import spam\n",
    "spam.bacon()"
   ]
  }
 ],
 "metadata": {
  "kernelspec": {
   "display_name": "Python 3 (ipykernel)",
   "language": "python",
   "name": "python3"
  },
  "language_info": {
   "codemirror_mode": {
    "name": "ipython",
    "version": 3
   },
   "file_extension": ".py",
   "mimetype": "text/x-python",
   "name": "python",
   "nbconvert_exporter": "python",
   "pygments_lexer": "ipython3",
   "version": "3.11.3"
  }
 },
 "nbformat": 4,
 "nbformat_minor": 5
}
