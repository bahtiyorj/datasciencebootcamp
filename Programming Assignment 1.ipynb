{
 "cells": [
  {
   "cell_type": "markdown",
   "id": "edbfb353",
   "metadata": {},
   "source": [
    "# Programming Assignment 1"
   ]
  },
  {
   "cell_type": "markdown",
   "id": "cdf97cf5",
   "metadata": {},
   "source": [
    "1. Write a Python program to print \"Hello Python\"?"
   ]
  },
  {
   "cell_type": "code",
   "execution_count": 1,
   "id": "181a6701",
   "metadata": {},
   "outputs": [
    {
     "name": "stdout",
     "output_type": "stream",
     "text": [
      "Hello Python\n"
     ]
    }
   ],
   "source": [
    "print(\"Hello Python\")"
   ]
  },
  {
   "cell_type": "markdown",
   "id": "a2f2b406",
   "metadata": {},
   "source": [
    "2. Write a Python program to do arithmetical operations addition and division?"
   ]
  },
  {
   "cell_type": "code",
   "execution_count": 3,
   "id": "9d566d12",
   "metadata": {},
   "outputs": [
    {
     "name": "stdout",
     "output_type": "stream",
     "text": [
      "Enter first number: 45\n",
      "Enter second number: 15\n",
      "Sum:  60.0\n",
      "Division:  3.0\n"
     ]
    }
   ],
   "source": [
    "num1 = float(input('Enter first number: '))\n",
    "num2 = float(input('Enter second number: '))\n",
    "\n",
    "print('Sum: ', (num1 + num2))\n",
    "print('Division: ', (num1/num2))"
   ]
  },
  {
   "cell_type": "markdown",
   "id": "216f416f",
   "metadata": {},
   "source": [
    "3. Write a Python program to find the area of a triangle?"
   ]
  },
  {
   "cell_type": "code",
   "execution_count": 6,
   "id": "7c412e33",
   "metadata": {},
   "outputs": [
    {
     "name": "stdout",
     "output_type": "stream",
     "text": [
      "Enter the base of the triangle: 12.3\n",
      "Enter the height of the triangle: 4.2\n",
      "Area:  25.830000000000002\n"
     ]
    }
   ],
   "source": [
    "base = float(input('Enter the base of the triangle: '))\n",
    "height = float(input('Enter the height of the triangle: '))\n",
    "\n",
    "area = 0.5 * base * height\n",
    "print('Area: ', area)"
   ]
  },
  {
   "cell_type": "markdown",
   "id": "a379aa54",
   "metadata": {},
   "source": [
    "4. Write a Python program to swap two variables?"
   ]
  },
  {
   "cell_type": "code",
   "execution_count": 7,
   "id": "5dd35672",
   "metadata": {},
   "outputs": [
    {
     "name": "stdout",
     "output_type": "stream",
     "text": [
      "25 10\n"
     ]
    }
   ],
   "source": [
    "a, b = 10, 25\n",
    "temp = b\n",
    "b = a\n",
    "a = temp\n",
    "\n",
    "print(a, b)"
   ]
  },
  {
   "cell_type": "markdown",
   "id": "57150667",
   "metadata": {},
   "source": [
    "5. Write a Python program to generate a random number?"
   ]
  },
  {
   "cell_type": "code",
   "execution_count": 9,
   "id": "e0feda13",
   "metadata": {},
   "outputs": [
    {
     "name": "stdout",
     "output_type": "stream",
     "text": [
      "Random number:  71\n"
     ]
    }
   ],
   "source": [
    "import random\n",
    "\n",
    "r_num = random.randint(1, 100)\n",
    "print('Random number: ', r_num)"
   ]
  }
 ],
 "metadata": {
  "kernelspec": {
   "display_name": "Python 3 (ipykernel)",
   "language": "python",
   "name": "python3"
  },
  "language_info": {
   "codemirror_mode": {
    "name": "ipython",
    "version": 3
   },
   "file_extension": ".py",
   "mimetype": "text/x-python",
   "name": "python",
   "nbconvert_exporter": "python",
   "pygments_lexer": "ipython3",
   "version": "3.11.3"
  }
 },
 "nbformat": 4,
 "nbformat_minor": 5
}
