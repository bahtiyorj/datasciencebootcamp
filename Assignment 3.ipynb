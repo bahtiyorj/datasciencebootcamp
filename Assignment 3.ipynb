{
 "cells": [
  {
   "cell_type": "markdown",
   "id": "0ad0146a",
   "metadata": {},
   "source": [
    "# Assignment 3"
   ]
  },
  {
   "cell_type": "markdown",
   "id": "945ce329",
   "metadata": {},
   "source": [
    "Question 1: Why are functions advantageous to have in your programs?"
   ]
  },
  {
   "cell_type": "markdown",
   "id": "80e57335",
   "metadata": {},
   "source": [
    "Functions are advantageous to have because they allow you to reuse blocks of code repeatedly. This reduces redundancy and enhances readability. They also enable you to break down complex tasks into smaller, simpler parts."
   ]
  },
  {
   "cell_type": "markdown",
   "id": "c47a4b73",
   "metadata": {},
   "source": [
    "2. When does the code in a function run: when it's specified or when it's called?"
   ]
  },
  {
   "cell_type": "markdown",
   "id": "511c31f8",
   "metadata": {},
   "source": [
    "The code in a function is run when it's called. Defining a function doesn't execute its code, only establishing the logic that will be executed when called."
   ]
  },
  {
   "cell_type": "markdown",
   "id": "2ee9e82a",
   "metadata": {},
   "source": [
    "3. What statement creates a function?"
   ]
  },
  {
   "cell_type": "markdown",
   "id": "5321d956",
   "metadata": {},
   "source": [
    "The 'def' statement at the start of defining a function creates the function. For example:"
   ]
  },
  {
   "cell_type": "code",
   "execution_count": null,
   "id": "22ba6403",
   "metadata": {},
   "outputs": [],
   "source": [
    "def function():\n",
    "    pass"
   ]
  },
  {
   "cell_type": "markdown",
   "id": "7dc09663",
   "metadata": {},
   "source": [
    "4. What is the difference between a function and a function call?"
   ]
  },
  {
   "cell_type": "markdown",
   "id": "56997839",
   "metadata": {},
   "source": [
    "A function is a block of code that executes a specific task. A function call is the act of executing that function. When you call the function, you tell the program to run the block of code within the body of the function."
   ]
  },
  {
   "cell_type": "markdown",
   "id": "55079927",
   "metadata": {},
   "source": [
    "5. How many global scopes are there in a Python program? How many local scopes?"
   ]
  },
  {
   "cell_type": "markdown",
   "id": "796152c1",
   "metadata": {},
   "source": [
    "There is one global scope in a Python program. Local scopes are created whenever a function is called. Each function creates its own local scope."
   ]
  },
  {
   "cell_type": "markdown",
   "id": "fb7ded74",
   "metadata": {},
   "source": [
    "6. What happens to variables in a local scope when the function call returns?"
   ]
  },
  {
   "cell_type": "markdown",
   "id": "5492293e",
   "metadata": {},
   "source": [
    "When the function call returns, the local variables are destroyed and freed up from the memory they occupied."
   ]
  },
  {
   "cell_type": "markdown",
   "id": "923ba019",
   "metadata": {},
   "source": [
    "7. What is the concept of a return value? Is it possible to have a return value in an expression?"
   ]
  },
  {
   "cell_type": "markdown",
   "id": "b6d28338",
   "metadata": {},
   "source": [
    "A return value is the value the function sends back to the caller when the function completes its execution. It is possible to use a return value in an expression."
   ]
  },
  {
   "cell_type": "markdown",
   "id": "99474203",
   "metadata": {},
   "source": [
    "8. If a function does not have a return statement, what is the return value of a call to that function?"
   ]
  },
  {
   "cell_type": "markdown",
   "id": "7422f4e2",
   "metadata": {},
   "source": [
    "If a function does not have a return statement, the return value of a call is 'None'."
   ]
  },
  {
   "cell_type": "markdown",
   "id": "1577d37e",
   "metadata": {},
   "source": [
    "9. How do you make a function variable refer to the global variable?"
   ]
  },
  {
   "cell_type": "markdown",
   "id": "cf29129c",
   "metadata": {},
   "source": [
    "To make a function variable refer to the global variable, you need to use the 'global' keyword inside the function. For example:"
   ]
  },
  {
   "cell_type": "code",
   "execution_count": null,
   "id": "f6a50fc9",
   "metadata": {},
   "outputs": [],
   "source": [
    "counter = 0\n",
    "def increment():\n",
    "    global counter\n",
    "    counter += 1"
   ]
  },
  {
   "cell_type": "markdown",
   "id": "e738d124",
   "metadata": {},
   "source": [
    "10. What is the data type of None?"
   ]
  },
  {
   "cell_type": "markdown",
   "id": "32ba10cf",
   "metadata": {},
   "source": [
    "The data type of None is 'NoneType'. It means there is an absence of a value or a null value."
   ]
  },
  {
   "cell_type": "markdown",
   "id": "b7b8fe3f",
   "metadata": {},
   "source": [
    "11. What does the sentence import areallyourpetsnamederic do?"
   ]
  },
  {
   "cell_type": "markdown",
   "id": "9a187853",
   "metadata": {},
   "source": [
    "If a module called 'areallyyourpetsnamederic' does exist, the sentence import areallyyourpetsnamederic would import that module into your Python program, making its content available for use in your code. If it doesn't exist, importing it would result in an ModuleNotFoundError."
   ]
  },
  {
   "cell_type": "markdown",
   "id": "49fd318a",
   "metadata": {},
   "source": [
    "12. If you had a bacon() feature in a spam module, what would you call it after importing spam?"
   ]
  },
  {
   "cell_type": "code",
   "execution_count": null,
   "id": "517f8265",
   "metadata": {},
   "outputs": [],
   "source": [
    "import spam\n",
    "spam.bacon()"
   ]
  },
  {
   "cell_type": "markdown",
   "id": "89daaf74",
   "metadata": {},
   "source": [
    "13. What can you do to save a programme from crashing if it encounters an error?"
   ]
  },
  {
   "cell_type": "markdown",
   "id": "49e06405",
   "metadata": {},
   "source": [
    "To save a program from crashing if it encounters an error, you can use exception handling with 'try' and 'except' statements. This allows you to catch and handle errors while preventing the program from abruptly crashing."
   ]
  },
  {
   "cell_type": "markdown",
   "id": "297e26d5",
   "metadata": {},
   "source": [
    "14. What is the purpose of the try clause? What is the purpose of the except clause?"
   ]
  },
  {
   "cell_type": "markdown",
   "id": "f5e3d3d1",
   "metadata": {},
   "source": [
    "The purpose of the try clause is to enclose a block of code where an exception might occur. If an exception does occur, instead of crashing, the program stops executing code in the try block and moves to execute the except block. The purpose of the except clause is to specify the code that should be executed when an exception of a specific type is raised within the try block."
   ]
  }
 ],
 "metadata": {
  "kernelspec": {
   "display_name": "Python 3 (ipykernel)",
   "language": "python",
   "name": "python3"
  },
  "language_info": {
   "codemirror_mode": {
    "name": "ipython",
    "version": 3
   },
   "file_extension": ".py",
   "mimetype": "text/x-python",
   "name": "python",
   "nbconvert_exporter": "python",
   "pygments_lexer": "ipython3",
   "version": "3.11.3"
  }
 },
 "nbformat": 4,
 "nbformat_minor": 5
}
