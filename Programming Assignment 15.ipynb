{
 "cells": [
  {
   "cell_type": "markdown",
   "id": "209f1be8",
   "metadata": {},
   "source": [
    "# Programming Assignment 15"
   ]
  },
  {
   "cell_type": "markdown",
   "id": "5fef70ff",
   "metadata": {},
   "source": [
    "Question 1:<br>\n",
    "Please write a program using generator to print the numbers which can be divisible by 5 and\n",
    "7 between 0 and n in comma separated form while n is input by console."
   ]
  },
  {
   "cell_type": "code",
   "execution_count": 1,
   "id": "fa1b0baf",
   "metadata": {},
   "outputs": [],
   "source": [
    "def div_by(n):\n",
    "    for i in range(n+1):\n",
    "        if i % 7 == 0 and i % 5 == 0: yield i"
   ]
  },
  {
   "cell_type": "code",
   "execution_count": 2,
   "id": "2121d06c",
   "metadata": {},
   "outputs": [
    {
     "name": "stdout",
     "output_type": "stream",
     "text": [
      "100\n",
      "0,35,70\n"
     ]
    }
   ],
   "source": [
    "num = int(input())\n",
    "out = ','.join(str(i) for i in div_by(num))\n",
    "print(out)"
   ]
  },
  {
   "cell_type": "markdown",
   "id": "2ea8a5af",
   "metadata": {},
   "source": [
    "Question 2:<br>\n",
    "Please write a program using generator to print the even numbers between 0 and n in comma\n",
    "separated form while n is input by console."
   ]
  },
  {
   "cell_type": "code",
   "execution_count": 3,
   "id": "7755a584",
   "metadata": {},
   "outputs": [],
   "source": [
    "def even(n):\n",
    "    for i in range(n+1):\n",
    "        if i % 2 == 0: yield i"
   ]
  },
  {
   "cell_type": "code",
   "execution_count": 4,
   "id": "1791cba7",
   "metadata": {},
   "outputs": [
    {
     "name": "stdout",
     "output_type": "stream",
     "text": [
      "10\n",
      "0,2,4,6,8,10\n"
     ]
    }
   ],
   "source": [
    "num = int(input())\n",
    "out = ','.join(str(i) for i in even(num))\n",
    "print(out)"
   ]
  },
  {
   "cell_type": "markdown",
   "id": "89b1d0e4",
   "metadata": {},
   "source": [
    "Question 3:<br>\n",
    "Please write a program using list comprehension to print the Fibonacci Sequence in comma\n",
    "separated form with a given n input by console."
   ]
  },
  {
   "cell_type": "code",
   "execution_count": 5,
   "id": "48299906",
   "metadata": {},
   "outputs": [],
   "source": [
    "def fib(n):\n",
    "    a = 0\n",
    "    b = 1\n",
    "    for i in range(n+1):\n",
    "        yield a\n",
    "        a, b = b, a+b"
   ]
  },
  {
   "cell_type": "code",
   "execution_count": 6,
   "id": "30cb87a0",
   "metadata": {},
   "outputs": [
    {
     "name": "stdout",
     "output_type": "stream",
     "text": [
      "7\n",
      "0,1,1,2,3,5,8,13\n"
     ]
    }
   ],
   "source": [
    "num = int(input())\n",
    "out = ','.join(str(i) for i in fib(num))\n",
    "print(out)"
   ]
  },
  {
   "cell_type": "markdown",
   "id": "8fec05bb",
   "metadata": {},
   "source": [
    "Question 4:<br>\n",
    "Assuming that we have some email addresses in the &quot;username@companyname.com&quot; format,\n",
    "please write program to print the user name of a given email address. Both user names and\n",
    "company names are composed of letters only."
   ]
  },
  {
   "cell_type": "code",
   "execution_count": 7,
   "id": "2ea6a781",
   "metadata": {},
   "outputs": [],
   "source": [
    "def getusername(email):\n",
    "    return email.split('@')[0]"
   ]
  },
  {
   "cell_type": "code",
   "execution_count": 8,
   "id": "cafad430",
   "metadata": {},
   "outputs": [
    {
     "name": "stdout",
     "output_type": "stream",
     "text": [
      "john@google.com\n",
      "john\n"
     ]
    }
   ],
   "source": [
    "email = input()\n",
    "print(getusername(email))"
   ]
  },
  {
   "cell_type": "markdown",
   "id": "55632601",
   "metadata": {},
   "source": [
    "Question 5:<br>\n",
    "Define a class named Shape and its subclass Square. The Square class has an init function\n",
    "which takes a length as argument. Both classes have a area function which can print the area\n",
    "of the shape where Shape&#39;s area is 0 by default."
   ]
  },
  {
   "cell_type": "code",
   "execution_count": 9,
   "id": "c5409b37",
   "metadata": {},
   "outputs": [],
   "source": [
    "class Shape:\n",
    "    def __init__(self):\n",
    "        self.area = 0\n",
    "    def getArea(self):\n",
    "        print(self.area)\n",
    "    \n",
    "class Square(Shape):\n",
    "    def __init__(self, length):\n",
    "        self.length = length\n",
    "        Shape.__init__(self)\n",
    "    def getArea(self):\n",
    "        print(self.length ** 2)"
   ]
  },
  {
   "cell_type": "code",
   "execution_count": 10,
   "id": "718130fb",
   "metadata": {},
   "outputs": [
    {
     "name": "stdout",
     "output_type": "stream",
     "text": [
      "100\n"
     ]
    }
   ],
   "source": [
    "sq = Square(10)\n",
    "sq.getArea()"
   ]
  },
  {
   "cell_type": "code",
   "execution_count": 11,
   "id": "e6c825e4",
   "metadata": {},
   "outputs": [
    {
     "name": "stdout",
     "output_type": "stream",
     "text": [
      "0\n"
     ]
    }
   ],
   "source": [
    "sh = Shape()\n",
    "sh.getArea()"
   ]
  }
 ],
 "metadata": {
  "kernelspec": {
   "display_name": "Python 3 (ipykernel)",
   "language": "python",
   "name": "python3"
  },
  "language_info": {
   "codemirror_mode": {
    "name": "ipython",
    "version": 3
   },
   "file_extension": ".py",
   "mimetype": "text/x-python",
   "name": "python",
   "nbconvert_exporter": "python",
   "pygments_lexer": "ipython3",
   "version": "3.11.3"
  }
 },
 "nbformat": 4,
 "nbformat_minor": 5
}
