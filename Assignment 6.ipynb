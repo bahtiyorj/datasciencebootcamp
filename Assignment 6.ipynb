{
 "cells": [
  {
   "cell_type": "markdown",
   "id": "75aceeb9",
   "metadata": {},
   "source": [
    "# Assignment 6"
   ]
  },
  {
   "cell_type": "markdown",
   "id": "551ea200",
   "metadata": {},
   "source": [
    "1. What are escape characters, and how do you use them?"
   ]
  },
  {
   "cell_type": "markdown",
   "id": "dac387a8",
   "metadata": {},
   "source": [
    "Escape characters are special characters that are used to represent certain actions in a string. They are preceded by a backslash '\\\\'"
   ]
  },
  {
   "cell_type": "markdown",
   "id": "4a02c68c",
   "metadata": {},
   "source": [
    "2. What do the escape characters n and t stand for?"
   ]
  },
  {
   "cell_type": "markdown",
   "id": "d58a628b",
   "metadata": {},
   "source": [
    "'\\n' stands for newline character, and '\\t' stands for a tab character."
   ]
  },
  {
   "cell_type": "markdown",
   "id": "6ca3e5ef",
   "metadata": {},
   "source": [
    "3. What is the way to include backslash characters in a string?"
   ]
  },
  {
   "cell_type": "markdown",
   "id": "80e98411",
   "metadata": {},
   "source": [
    "To include a backslash character in a string, you need to use a double backslash '\\\\\\\\' to represent a single backslash in the string."
   ]
  },
  {
   "cell_type": "markdown",
   "id": "0ce124a5",
   "metadata": {},
   "source": [
    "4. The string &quot;Howl&#39;s Moving Castle&quot; is a correct value. Why isn&#39;t the single quote character in the\n",
    "word Howl&#39;s not escaped a problem?"
   ]
  },
  {
   "cell_type": "markdown",
   "id": "6deb9be8",
   "metadata": {},
   "source": [
    "The entire string is enclosed in double quotes. Python allows mixing single quotes and double quotes for string literals, so you can use one type of quote inside the other without needing to escape it."
   ]
  },
  {
   "cell_type": "markdown",
   "id": "10cda544",
   "metadata": {},
   "source": [
    "5. How do you write a string of newlines if you don&#39;t want to use the n character?"
   ]
  },
  {
   "cell_type": "markdown",
   "id": "5e43a028",
   "metadata": {},
   "source": [
    "You can use triple-quoted strings to write a string of newlines with the \\n character."
   ]
  },
  {
   "cell_type": "code",
   "execution_count": null,
   "id": "8cea84f1",
   "metadata": {},
   "outputs": [],
   "source": [
    "'''There is line one\n",
    "Line two\n",
    "Final Line\n",
    "Done'''"
   ]
  },
  {
   "cell_type": "markdown",
   "id": "2791fe1a",
   "metadata": {},
   "source": [
    "6. What are the values of the given expressions?"
   ]
  },
  {
   "cell_type": "code",
   "execution_count": null,
   "id": "46a55462",
   "metadata": {},
   "outputs": [],
   "source": [
    "'Hello, world!'[1]\n",
    "'Hello, world!'[0:5]\n",
    "'Hello, world!'[:5]\n",
    "'Hello, world!'[3:]"
   ]
  },
  {
   "cell_type": "markdown",
   "id": "b819f470",
   "metadata": {},
   "source": [
    "'e'<br>\n",
    "'Hello'<br>\n",
    "'Hello'<br>\n",
    "'lo, world!'"
   ]
  },
  {
   "cell_type": "markdown",
   "id": "95eea5dc",
   "metadata": {},
   "source": [
    "7. What are the values of the following expressions?"
   ]
  },
  {
   "cell_type": "code",
   "execution_count": null,
   "id": "bcf24186",
   "metadata": {},
   "outputs": [],
   "source": [
    "'Hello'.upper()\n",
    "'Hello'.upper().isupper()\n",
    "'Hello'.upper().lower()"
   ]
  },
  {
   "cell_type": "markdown",
   "id": "fed0015d",
   "metadata": {},
   "source": [
    "'HELLO'<br>\n",
    "True<br>\n",
    "'hello'"
   ]
  },
  {
   "cell_type": "markdown",
   "id": "2fc3842f",
   "metadata": {},
   "source": [
    "8. What are the values of the following expressions?"
   ]
  },
  {
   "cell_type": "code",
   "execution_count": null,
   "id": "db8e2de1",
   "metadata": {},
   "outputs": [],
   "source": [
    "'Remember, remember, the fifth of July.'.split()\n",
    "'-'.join('There can only one.'.split())"
   ]
  },
  {
   "cell_type": "code",
   "execution_count": null,
   "id": "b0155edf",
   "metadata": {},
   "outputs": [],
   "source": [
    "#Answer\n",
    "['Remember,' 'remember,' 'the', 'fifth', 'of', 'July.']\n",
    "'There-can-only-one.'"
   ]
  },
  {
   "cell_type": "markdown",
   "id": "6401fe1c",
   "metadata": {},
   "source": [
    "9. What are the methods for right-justifying, left-justifying, and centering a string?"
   ]
  },
  {
   "cell_type": "markdown",
   "id": "4c8b0dca",
   "metadata": {},
   "source": [
    "right-justifying: rjust()<br>\n",
    "left-justifying: ljust()<br>\n",
    "centering: center()"
   ]
  },
  {
   "cell_type": "markdown",
   "id": "5bb70f19",
   "metadata": {},
   "source": [
    "10. What is the best way to remove whitespace characters from the start or end?"
   ]
  },
  {
   "cell_type": "markdown",
   "id": "e13ccbd5",
   "metadata": {},
   "source": [
    "To remove whitespace from the start: lstrip()<br>\n",
    "To remove whitespace at the end: rstrip()"
   ]
  }
 ],
 "metadata": {
  "kernelspec": {
   "display_name": "Python 3 (ipykernel)",
   "language": "python",
   "name": "python3"
  },
  "language_info": {
   "codemirror_mode": {
    "name": "ipython",
    "version": 3
   },
   "file_extension": ".py",
   "mimetype": "text/x-python",
   "name": "python",
   "nbconvert_exporter": "python",
   "pygments_lexer": "ipython3",
   "version": "3.11.3"
  }
 },
 "nbformat": 4,
 "nbformat_minor": 5
}
