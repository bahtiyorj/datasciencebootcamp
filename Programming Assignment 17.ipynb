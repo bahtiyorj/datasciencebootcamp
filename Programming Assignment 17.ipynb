{
 "cells": [
  {
   "cell_type": "markdown",
   "id": "8001439a",
   "metadata": {},
   "source": [
    "# Programming Assignment 17"
   ]
  },
  {
   "cell_type": "markdown",
   "id": "188f7db2",
   "metadata": {},
   "source": [
    "Question1. <br>Create a function that takes three arguments a, b, c and returns the sum of the\n",
    "numbers that are evenly divided by c from the range a, b inclusive."
   ]
  },
  {
   "cell_type": "code",
   "execution_count": 1,
   "id": "a215f204",
   "metadata": {},
   "outputs": [],
   "source": [
    "def evenly_divisible(a, b, c):\n",
    "    s = 0\n",
    "    for i in range(a, b+1):\n",
    "        if i % c == 0:\n",
    "            s += i\n",
    "    return s"
   ]
  },
  {
   "cell_type": "code",
   "execution_count": 2,
   "id": "f55d0684",
   "metadata": {},
   "outputs": [
    {
     "data": {
      "text/plain": [
       "0"
      ]
     },
     "execution_count": 2,
     "metadata": {},
     "output_type": "execute_result"
    }
   ],
   "source": [
    "evenly_divisible(1, 10, 20)"
   ]
  },
  {
   "cell_type": "code",
   "execution_count": 3,
   "id": "be249317",
   "metadata": {},
   "outputs": [
    {
     "data": {
      "text/plain": [
       "30"
      ]
     },
     "execution_count": 3,
     "metadata": {},
     "output_type": "execute_result"
    }
   ],
   "source": [
    "evenly_divisible(1, 10, 2)"
   ]
  },
  {
   "cell_type": "code",
   "execution_count": 4,
   "id": "a5a64b03",
   "metadata": {},
   "outputs": [
    {
     "data": {
      "text/plain": [
       "18"
      ]
     },
     "execution_count": 4,
     "metadata": {},
     "output_type": "execute_result"
    }
   ],
   "source": [
    "evenly_divisible(1, 10, 3)"
   ]
  },
  {
   "cell_type": "markdown",
   "id": "d514632c",
   "metadata": {},
   "source": [
    "Question2. <br>Create a function that returns True if a given inequality expression is correct and\n",
    "False otherwise."
   ]
  },
  {
   "cell_type": "code",
   "execution_count": 5,
   "id": "44f98888",
   "metadata": {},
   "outputs": [],
   "source": [
    "def correct_signs(s):\n",
    "    return eval(s)"
   ]
  },
  {
   "cell_type": "code",
   "execution_count": 6,
   "id": "2c6ba090",
   "metadata": {},
   "outputs": [
    {
     "data": {
      "text/plain": [
       "True"
      ]
     },
     "execution_count": 6,
     "metadata": {},
     "output_type": "execute_result"
    }
   ],
   "source": [
    "correct_signs('3 < 7 < 11')"
   ]
  },
  {
   "cell_type": "code",
   "execution_count": 7,
   "id": "9d9e92a1",
   "metadata": {},
   "outputs": [
    {
     "data": {
      "text/plain": [
       "False"
      ]
     },
     "execution_count": 7,
     "metadata": {},
     "output_type": "execute_result"
    }
   ],
   "source": [
    "correct_signs('13 > 44 > 33 > 1')"
   ]
  },
  {
   "cell_type": "code",
   "execution_count": 8,
   "id": "442cd668",
   "metadata": {},
   "outputs": [
    {
     "data": {
      "text/plain": [
       "True"
      ]
     },
     "execution_count": 8,
     "metadata": {},
     "output_type": "execute_result"
    }
   ],
   "source": [
    "correct_signs('1 < 2 < 6 < 9 > 3')"
   ]
  },
  {
   "cell_type": "markdown",
   "id": "078cc618",
   "metadata": {},
   "source": [
    "Question3. <br>Create a function that replaces all the vowels in a string with a specified character."
   ]
  },
  {
   "cell_type": "code",
   "execution_count": 9,
   "id": "66f5ac40",
   "metadata": {},
   "outputs": [],
   "source": [
    "def replace_vowels(s, c):\n",
    "    l = [c if i in 'aeiou' else i for i in s]\n",
    "    s1 = ''\n",
    "    for j in l:\n",
    "        s1 += j\n",
    "    return s1"
   ]
  },
  {
   "cell_type": "code",
   "execution_count": 10,
   "id": "e770785c",
   "metadata": {},
   "outputs": [
    {
     "data": {
      "text/plain": [
       "'th# ##rdv#rk'"
      ]
     },
     "execution_count": 10,
     "metadata": {},
     "output_type": "execute_result"
    }
   ],
   "source": [
    "replace_vowels('the aardvark', '#')"
   ]
  },
  {
   "cell_type": "code",
   "execution_count": 11,
   "id": "3764a970",
   "metadata": {},
   "outputs": [
    {
     "data": {
      "text/plain": [
       "'m?nn?? m??s?'"
      ]
     },
     "execution_count": 11,
     "metadata": {},
     "output_type": "execute_result"
    }
   ],
   "source": [
    "replace_vowels('minnie mouse', '?')"
   ]
  },
  {
   "cell_type": "code",
   "execution_count": 12,
   "id": "ca05e731",
   "metadata": {},
   "outputs": [
    {
     "data": {
      "text/plain": [
       "'sh*k*sp**r*'"
      ]
     },
     "execution_count": 12,
     "metadata": {},
     "output_type": "execute_result"
    }
   ],
   "source": [
    "replace_vowels('shakespeare', '*')"
   ]
  },
  {
   "cell_type": "markdown",
   "id": "27adcd26",
   "metadata": {},
   "source": [
    "Question4. <br>Write a function that calculates the factorial of a number recursively."
   ]
  },
  {
   "cell_type": "code",
   "execution_count": 13,
   "id": "1a0a79d5",
   "metadata": {},
   "outputs": [],
   "source": [
    "def factorial(n):\n",
    "    if n == 0: return 1\n",
    "    s = 1\n",
    "    for i in range(1, n+1):\n",
    "        s *= i\n",
    "    return s"
   ]
  },
  {
   "cell_type": "code",
   "execution_count": 14,
   "id": "27d1a5ef",
   "metadata": {},
   "outputs": [
    {
     "data": {
      "text/plain": [
       "120"
      ]
     },
     "execution_count": 14,
     "metadata": {},
     "output_type": "execute_result"
    }
   ],
   "source": [
    "factorial(5)"
   ]
  },
  {
   "cell_type": "code",
   "execution_count": 15,
   "id": "011e1561",
   "metadata": {},
   "outputs": [
    {
     "data": {
      "text/plain": [
       "6"
      ]
     },
     "execution_count": 15,
     "metadata": {},
     "output_type": "execute_result"
    }
   ],
   "source": [
    "factorial(3)"
   ]
  },
  {
   "cell_type": "code",
   "execution_count": 16,
   "id": "3b611f07",
   "metadata": {},
   "outputs": [
    {
     "data": {
      "text/plain": [
       "1"
      ]
     },
     "execution_count": 16,
     "metadata": {},
     "output_type": "execute_result"
    }
   ],
   "source": [
    "factorial(1)"
   ]
  },
  {
   "cell_type": "code",
   "execution_count": 17,
   "id": "c1003746",
   "metadata": {},
   "outputs": [
    {
     "data": {
      "text/plain": [
       "1"
      ]
     },
     "execution_count": 17,
     "metadata": {},
     "output_type": "execute_result"
    }
   ],
   "source": [
    "factorial(0)"
   ]
  },
  {
   "cell_type": "markdown",
   "id": "6ad9b3bc",
   "metadata": {},
   "source": [
    "Question 5<br>\n",
    "Hamming distance is the number of characters that differ between two strings.<br>\n",
    "To illustrate:<br>\n",
    "String1: &quot;abcbba&quot;<br>\n",
    "String2: &quot;abcbda&quot;<br>\n",
    "Hamming Distance: 1 - &quot;b&quot; vs. &quot;d&quot; is the only difference.<br>\n",
    "Create a function that computes the hamming distance between two strings."
   ]
  },
  {
   "cell_type": "code",
   "execution_count": 18,
   "id": "fbd7a77c",
   "metadata": {},
   "outputs": [],
   "source": [
    "def hamming_distance(s1, s2):\n",
    "    l1 = list(s1)\n",
    "    l2 = list(s2)\n",
    "    count = 0\n",
    "    for i in range(len(l1)):\n",
    "        if l1[i] != l2[i]:\n",
    "            count += 1\n",
    "    return count"
   ]
  },
  {
   "cell_type": "code",
   "execution_count": 19,
   "id": "9192d460",
   "metadata": {},
   "outputs": [
    {
     "data": {
      "text/plain": [
       "5"
      ]
     },
     "execution_count": 19,
     "metadata": {},
     "output_type": "execute_result"
    }
   ],
   "source": [
    "hamming_distance('abcde', 'bcdef')"
   ]
  },
  {
   "cell_type": "code",
   "execution_count": 20,
   "id": "6c1038d6",
   "metadata": {},
   "outputs": [
    {
     "data": {
      "text/plain": [
       "0"
      ]
     },
     "execution_count": 20,
     "metadata": {},
     "output_type": "execute_result"
    }
   ],
   "source": [
    "hamming_distance('abcde', 'abcde')"
   ]
  },
  {
   "cell_type": "code",
   "execution_count": 21,
   "id": "f3ff6829",
   "metadata": {},
   "outputs": [
    {
     "data": {
      "text/plain": [
       "1"
      ]
     },
     "execution_count": 21,
     "metadata": {},
     "output_type": "execute_result"
    }
   ],
   "source": [
    "hamming_distance('strong', 'strung')"
   ]
  }
 ],
 "metadata": {
  "kernelspec": {
   "display_name": "Python 3 (ipykernel)",
   "language": "python",
   "name": "python3"
  },
  "language_info": {
   "codemirror_mode": {
    "name": "ipython",
    "version": 3
   },
   "file_extension": ".py",
   "mimetype": "text/x-python",
   "name": "python",
   "nbconvert_exporter": "python",
   "pygments_lexer": "ipython3",
   "version": "3.11.3"
  }
 },
 "nbformat": 4,
 "nbformat_minor": 5
}
