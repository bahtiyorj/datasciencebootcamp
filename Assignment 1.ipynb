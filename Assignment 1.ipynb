{
 "cells": [
  {
   "cell_type": "markdown",
   "id": "877c6263",
   "metadata": {},
   "source": [
    "# Assignment 1"
   ]
  },
  {
   "cell_type": "markdown",
   "id": "10cdf41e",
   "metadata": {},
   "source": [
    "Question 1: In the below elements which of them are values or an expression? eg:- values can be\n",
    "integer or string and expressions will be mathematical operators."
   ]
  },
  {
   "cell_type": "markdown",
   "id": "4ef4e8af",
   "metadata": {},
   "source": [
    "Values: 'hello', -87.8, 6"
   ]
  },
  {
   "cell_type": "markdown",
   "id": "1a86ab2e",
   "metadata": {},
   "source": [
    "Expression: *, -, /, +"
   ]
  },
  {
   "cell_type": "markdown",
   "id": "b609b097",
   "metadata": {},
   "source": [
    "Question 2: What is the difference between string and variable?"
   ]
  },
  {
   "cell_type": "markdown",
   "id": "d9bf7d1c",
   "metadata": {},
   "source": [
    "A string is a data type that represents a sequence of characters. It is used to store and manipulate text data. A variable is a placeholder to store different types of values, including strings. Variables allow us to refer to and manipulate data by using the assigned name."
   ]
  },
  {
   "cell_type": "markdown",
   "id": "eeab903b",
   "metadata": {},
   "source": [
    "Question 3: Describe three different data types."
   ]
  },
  {
   "cell_type": "markdown",
   "id": "b7189716",
   "metadata": {},
   "source": [
    "1. Integer represents whole numbers, which can be both positive and negative. It doesn't have a decimal point.\n",
    "2. Float represents numbers with decimal points or fractional numbers.\n",
    "3. String represents a sequence of character used to store text data."
   ]
  },
  {
   "cell_type": "markdown",
   "id": "7a16c7c9",
   "metadata": {},
   "source": [
    "Question 4: What is an expression made up of? What do all expressions do?"
   ]
  },
  {
   "cell_type": "markdown",
   "id": "643226c4",
   "metadata": {},
   "source": [
    "An expression is made up of values, variables, and operators. Expressions perform operations and produce a new value. They can consist of arithmetic operations, comparison operations, etc."
   ]
  },
  {
   "cell_type": "markdown",
   "id": "e2395920",
   "metadata": {},
   "source": [
    "Question 5: What is the difference between an expression and a statement?"
   ]
  },
  {
   "cell_type": "markdown",
   "id": "bc5194f7",
   "metadata": {},
   "source": [
    "An expression is a combination of values, variables, and operators that can produce a new value. A statement is a complete line of code that performs a certain task."
   ]
  },
  {
   "cell_type": "markdown",
   "id": "2f07cdd9",
   "metadata": {},
   "source": [
    "Question 6: After running the following code, what does the variable bacon contain?"
   ]
  },
  {
   "cell_type": "code",
   "execution_count": null,
   "id": "436f1e24",
   "metadata": {},
   "outputs": [],
   "source": [
    "bacon = 22\n",
    "bacon + 1"
   ]
  },
  {
   "cell_type": "markdown",
   "id": "3ba4d13f",
   "metadata": {},
   "source": [
    "The variable bacon still contains the value 22. The second line is an expression that evaluates to 23, but it is not stored in any variable, so the variable is unchanged."
   ]
  },
  {
   "cell_type": "markdown",
   "id": "95c5152f",
   "metadata": {},
   "source": [
    "Question 7: What should the values of the following two terms be?"
   ]
  },
  {
   "cell_type": "code",
   "execution_count": null,
   "id": "b723450f",
   "metadata": {},
   "outputs": [],
   "source": [
    "'spam' + 'spamspam'\n",
    "'spam' * 3"
   ]
  },
  {
   "cell_type": "markdown",
   "id": "5efb4609",
   "metadata": {},
   "source": [
    "spamspamspam<br>\n",
    "spamspamspam"
   ]
  },
  {
   "cell_type": "markdown",
   "id": "cb5b8233",
   "metadata": {},
   "source": [
    "Question 8: Why is eggs a valid variable name while 100 is invalid?"
   ]
  },
  {
   "cell_type": "markdown",
   "id": "c828f8f6",
   "metadata": {},
   "source": [
    "eggs starts with a letter, so it is a valid variable. However, 100 starts with a digit, making it invalid as a variable name."
   ]
  },
  {
   "cell_type": "markdown",
   "id": "113b8f21",
   "metadata": {},
   "source": [
    "Question 9: What three functions can be used to get the integer, floating-point number, or string\n",
    "version of a value?"
   ]
  },
  {
   "cell_type": "markdown",
   "id": "4a5a3d5f",
   "metadata": {},
   "source": [
    "int()<br>\n",
    "float()<br>\n",
    "str()"
   ]
  },
  {
   "cell_type": "markdown",
   "id": "87eea84b",
   "metadata": {},
   "source": [
    "Question 10: Why does this expression cause an error? How can you fix it?"
   ]
  },
  {
   "cell_type": "code",
   "execution_count": null,
   "id": "3c1fd86b",
   "metadata": {},
   "outputs": [],
   "source": [
    "'I have eaten' + 99 + 'burritos.'"
   ]
  },
  {
   "cell_type": "markdown",
   "id": "0b33d03a",
   "metadata": {},
   "source": [
    "This expression causes an error because you are trying to concatenatea string with an integer without any conversion. You can only concatenate strings with other strings. To fix the error, convert the integer value to a string value with the function, str(99). This is the corrected expression:"
   ]
  },
  {
   "cell_type": "code",
   "execution_count": null,
   "id": "e20fd55d",
   "metadata": {},
   "outputs": [],
   "source": [
    "'I have eaten ' + str(99) + ' burritos.'"
   ]
  }
 ],
 "metadata": {
  "kernelspec": {
   "display_name": "Python 3 (ipykernel)",
   "language": "python",
   "name": "python3"
  },
  "language_info": {
   "codemirror_mode": {
    "name": "ipython",
    "version": 3
   },
   "file_extension": ".py",
   "mimetype": "text/x-python",
   "name": "python",
   "nbconvert_exporter": "python",
   "pygments_lexer": "ipython3",
   "version": "3.11.3"
  }
 },
 "nbformat": 4,
 "nbformat_minor": 5
}
