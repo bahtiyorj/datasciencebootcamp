{
 "cells": [
  {
   "cell_type": "markdown",
   "id": "d449b0cc",
   "metadata": {},
   "source": [
    "# Programming Assignment 4"
   ]
  },
  {
   "cell_type": "markdown",
   "id": "6ed662a8",
   "metadata": {},
   "source": [
    "1. Write a Python Program to Find the Factorial of a Number?"
   ]
  },
  {
   "cell_type": "code",
   "execution_count": 1,
   "id": "7f25a5dc",
   "metadata": {},
   "outputs": [],
   "source": [
    "def findFactorial(n):\n",
    "    if type(n) == int and n >= 0:\n",
    "        fact = 1\n",
    "        if n == 0: return fact\n",
    "        for i in range(1, n+1):\n",
    "            fact *= i\n",
    "        return fact\n",
    "    else:\n",
    "        print('Try entering a positive integer.')"
   ]
  },
  {
   "cell_type": "code",
   "execution_count": 2,
   "id": "aada3687",
   "metadata": {},
   "outputs": [
    {
     "name": "stdout",
     "output_type": "stream",
     "text": [
      "Try entering a positive integer.\n"
     ]
    }
   ],
   "source": [
    "findFactorial(1.5)"
   ]
  },
  {
   "cell_type": "code",
   "execution_count": 3,
   "id": "b698750e",
   "metadata": {},
   "outputs": [
    {
     "name": "stdout",
     "output_type": "stream",
     "text": [
      "Try entering a positive integer.\n"
     ]
    }
   ],
   "source": [
    "findFactorial(-4)"
   ]
  },
  {
   "cell_type": "code",
   "execution_count": 4,
   "id": "f3c711be",
   "metadata": {},
   "outputs": [
    {
     "data": {
      "text/plain": [
       "1"
      ]
     },
     "execution_count": 4,
     "metadata": {},
     "output_type": "execute_result"
    }
   ],
   "source": [
    "findFactorial(0)"
   ]
  },
  {
   "cell_type": "code",
   "execution_count": 5,
   "id": "86fa15c8",
   "metadata": {},
   "outputs": [
    {
     "data": {
      "text/plain": [
       "120"
      ]
     },
     "execution_count": 5,
     "metadata": {},
     "output_type": "execute_result"
    }
   ],
   "source": [
    "findFactorial(5)"
   ]
  },
  {
   "cell_type": "markdown",
   "id": "df068009",
   "metadata": {},
   "source": [
    "2. Write a Python Program to Display the multiplication Table?"
   ]
  },
  {
   "cell_type": "code",
   "execution_count": 6,
   "id": "024fb591",
   "metadata": {},
   "outputs": [],
   "source": [
    "def multTable(n):\n",
    "    if type(n) == int and n > 0:\n",
    "        for i in range(0, n+1):\n",
    "            for j in range(0, n+1):\n",
    "                print(f'{i}*{j}={i*j}', end= ' ')\n",
    "            print()\n",
    "    else:\n",
    "        print('Try entering a positive number.')"
   ]
  },
  {
   "cell_type": "code",
   "execution_count": 7,
   "id": "cc1b78cd",
   "metadata": {},
   "outputs": [
    {
     "name": "stdout",
     "output_type": "stream",
     "text": [
      "0*0=0 0*1=0 0*2=0 0*3=0 0*4=0 0*5=0 0*6=0 0*7=0 0*8=0 0*9=0 0*10=0 0*11=0 0*12=0 \n",
      "1*0=0 1*1=1 1*2=2 1*3=3 1*4=4 1*5=5 1*6=6 1*7=7 1*8=8 1*9=9 1*10=10 1*11=11 1*12=12 \n",
      "2*0=0 2*1=2 2*2=4 2*3=6 2*4=8 2*5=10 2*6=12 2*7=14 2*8=16 2*9=18 2*10=20 2*11=22 2*12=24 \n",
      "3*0=0 3*1=3 3*2=6 3*3=9 3*4=12 3*5=15 3*6=18 3*7=21 3*8=24 3*9=27 3*10=30 3*11=33 3*12=36 \n",
      "4*0=0 4*1=4 4*2=8 4*3=12 4*4=16 4*5=20 4*6=24 4*7=28 4*8=32 4*9=36 4*10=40 4*11=44 4*12=48 \n",
      "5*0=0 5*1=5 5*2=10 5*3=15 5*4=20 5*5=25 5*6=30 5*7=35 5*8=40 5*9=45 5*10=50 5*11=55 5*12=60 \n",
      "6*0=0 6*1=6 6*2=12 6*3=18 6*4=24 6*5=30 6*6=36 6*7=42 6*8=48 6*9=54 6*10=60 6*11=66 6*12=72 \n",
      "7*0=0 7*1=7 7*2=14 7*3=21 7*4=28 7*5=35 7*6=42 7*7=49 7*8=56 7*9=63 7*10=70 7*11=77 7*12=84 \n",
      "8*0=0 8*1=8 8*2=16 8*3=24 8*4=32 8*5=40 8*6=48 8*7=56 8*8=64 8*9=72 8*10=80 8*11=88 8*12=96 \n",
      "9*0=0 9*1=9 9*2=18 9*3=27 9*4=36 9*5=45 9*6=54 9*7=63 9*8=72 9*9=81 9*10=90 9*11=99 9*12=108 \n",
      "10*0=0 10*1=10 10*2=20 10*3=30 10*4=40 10*5=50 10*6=60 10*7=70 10*8=80 10*9=90 10*10=100 10*11=110 10*12=120 \n",
      "11*0=0 11*1=11 11*2=22 11*3=33 11*4=44 11*5=55 11*6=66 11*7=77 11*8=88 11*9=99 11*10=110 11*11=121 11*12=132 \n",
      "12*0=0 12*1=12 12*2=24 12*3=36 12*4=48 12*5=60 12*6=72 12*7=84 12*8=96 12*9=108 12*10=120 12*11=132 12*12=144 \n"
     ]
    }
   ],
   "source": [
    "multTable(12)"
   ]
  },
  {
   "cell_type": "code",
   "execution_count": 8,
   "id": "35022f2a",
   "metadata": {},
   "outputs": [
    {
     "name": "stdout",
     "output_type": "stream",
     "text": [
      "Try entering a positive number.\n"
     ]
    }
   ],
   "source": [
    "multTable(-12)"
   ]
  },
  {
   "cell_type": "markdown",
   "id": "cbeb5011",
   "metadata": {},
   "source": [
    "3. Write a Python Program to Print the Fibonacci sequence?"
   ]
  },
  {
   "cell_type": "code",
   "execution_count": 9,
   "id": "f0a2a8a2",
   "metadata": {},
   "outputs": [],
   "source": [
    "def fib(n):\n",
    "    if type(n) == int and n >= 0:\n",
    "        a = 0\n",
    "        b = 1\n",
    "        for i in range(n+1):\n",
    "            print(a)\n",
    "            a,b = b, a+b\n",
    "    else:\n",
    "        print('Try entering a positive integer.')"
   ]
  },
  {
   "cell_type": "code",
   "execution_count": 10,
   "id": "05bae3ed",
   "metadata": {},
   "outputs": [
    {
     "name": "stdout",
     "output_type": "stream",
     "text": [
      "Try entering a positive integer.\n"
     ]
    }
   ],
   "source": [
    "fib(-4)"
   ]
  },
  {
   "cell_type": "code",
   "execution_count": 11,
   "id": "ad32a6ae",
   "metadata": {},
   "outputs": [
    {
     "name": "stdout",
     "output_type": "stream",
     "text": [
      "0\n",
      "1\n",
      "1\n",
      "2\n",
      "3\n",
      "5\n",
      "8\n",
      "13\n",
      "21\n",
      "34\n",
      "55\n"
     ]
    }
   ],
   "source": [
    "fib(10)"
   ]
  },
  {
   "cell_type": "code",
   "execution_count": 12,
   "id": "ce19ae26",
   "metadata": {},
   "outputs": [
    {
     "name": "stdout",
     "output_type": "stream",
     "text": [
      "0\n"
     ]
    }
   ],
   "source": [
    "fib(0)"
   ]
  },
  {
   "cell_type": "markdown",
   "id": "766d0c39",
   "metadata": {},
   "source": [
    "4. Write a Python Program to Check Armstrong Number?"
   ]
  },
  {
   "cell_type": "code",
   "execution_count": 13,
   "id": "65af3c83",
   "metadata": {},
   "outputs": [],
   "source": [
    "def isArmNum(n):\n",
    "    if type(n) == int and n >= 0:\n",
    "        power = len(str(n))\n",
    "        s = str(n)\n",
    "        num = 0\n",
    "        for digit in s:\n",
    "            num += int(digit) ** power\n",
    "        if num == n:\n",
    "            return True\n",
    "        else:\n",
    "            return False\n",
    "    else:\n",
    "        print('Try entering a positive integer.')"
   ]
  },
  {
   "cell_type": "code",
   "execution_count": 14,
   "id": "d335b375",
   "metadata": {},
   "outputs": [
    {
     "name": "stdout",
     "output_type": "stream",
     "text": [
      "Try entering a positive integer.\n"
     ]
    }
   ],
   "source": [
    "isArmNum(1.5)"
   ]
  },
  {
   "cell_type": "code",
   "execution_count": 15,
   "id": "cd4b86a0",
   "metadata": {},
   "outputs": [
    {
     "name": "stdout",
     "output_type": "stream",
     "text": [
      "Try entering a positive integer.\n"
     ]
    }
   ],
   "source": [
    "isArmNum(-4)"
   ]
  },
  {
   "cell_type": "code",
   "execution_count": 16,
   "id": "b1dea20f",
   "metadata": {},
   "outputs": [
    {
     "data": {
      "text/plain": [
       "False"
      ]
     },
     "execution_count": 16,
     "metadata": {},
     "output_type": "execute_result"
    }
   ],
   "source": [
    "isArmNum(120)"
   ]
  },
  {
   "cell_type": "code",
   "execution_count": 17,
   "id": "d7c0f075",
   "metadata": {},
   "outputs": [
    {
     "data": {
      "text/plain": [
       "True"
      ]
     },
     "execution_count": 17,
     "metadata": {},
     "output_type": "execute_result"
    }
   ],
   "source": [
    "isArmNum(153)"
   ]
  },
  {
   "cell_type": "code",
   "execution_count": 18,
   "id": "3484807e",
   "metadata": {},
   "outputs": [
    {
     "data": {
      "text/plain": [
       "True"
      ]
     },
     "execution_count": 18,
     "metadata": {},
     "output_type": "execute_result"
    }
   ],
   "source": [
    "isArmNum(1634)"
   ]
  },
  {
   "cell_type": "markdown",
   "id": "ee5212d0",
   "metadata": {},
   "source": [
    "5. Write a Python Program to Find Armstrong Number in an Interval?"
   ]
  },
  {
   "cell_type": "code",
   "execution_count": 19,
   "id": "9e2c1102",
   "metadata": {},
   "outputs": [],
   "source": [
    "def findArmNum(a, b):\n",
    "    l = []\n",
    "    for i in range(a, b+1):\n",
    "        if isArmNum(i):\n",
    "            l.append(i)\n",
    "    if len(l) == 0:\n",
    "        print('There is no Armstrong Number in this interval.')\n",
    "    else:\n",
    "        return l  "
   ]
  },
  {
   "cell_type": "code",
   "execution_count": 20,
   "id": "83219957",
   "metadata": {},
   "outputs": [
    {
     "name": "stdout",
     "output_type": "stream",
     "text": [
      "There is no Armstrong Number in this interval.\n"
     ]
    }
   ],
   "source": [
    "findArmNum(10,99)"
   ]
  },
  {
   "cell_type": "code",
   "execution_count": 21,
   "id": "ed5ee735",
   "metadata": {},
   "outputs": [
    {
     "data": {
      "text/plain": [
       "[153]"
      ]
     },
     "execution_count": 21,
     "metadata": {},
     "output_type": "execute_result"
    }
   ],
   "source": [
    "findArmNum(100,200)"
   ]
  },
  {
   "cell_type": "code",
   "execution_count": 22,
   "id": "83290150",
   "metadata": {},
   "outputs": [
    {
     "data": {
      "text/plain": [
       "[153, 370, 371, 407]"
      ]
     },
     "execution_count": 22,
     "metadata": {},
     "output_type": "execute_result"
    }
   ],
   "source": [
    "findArmNum(100,1000)"
   ]
  },
  {
   "cell_type": "code",
   "execution_count": 23,
   "id": "8a7eaea6",
   "metadata": {},
   "outputs": [
    {
     "data": {
      "text/plain": [
       "[0, 1, 2, 3, 4, 5, 6, 7, 8, 9]"
      ]
     },
     "execution_count": 23,
     "metadata": {},
     "output_type": "execute_result"
    }
   ],
   "source": [
    "findArmNum(0,10)"
   ]
  },
  {
   "cell_type": "markdown",
   "id": "3cb8632c",
   "metadata": {},
   "source": [
    "6. Write a Python Program to Find the Sum of Natural Numbers?"
   ]
  },
  {
   "cell_type": "code",
   "execution_count": 24,
   "id": "b6a5b4a2",
   "metadata": {},
   "outputs": [],
   "source": [
    "def sumNatNum(n):\n",
    "    if type(n) == int and n > 0:\n",
    "        return int(n * (n+1) / 2)\n",
    "    else:\n",
    "        print('Try entering a positive integer.') "
   ]
  },
  {
   "cell_type": "code",
   "execution_count": 25,
   "id": "77d0042c",
   "metadata": {},
   "outputs": [
    {
     "name": "stdout",
     "output_type": "stream",
     "text": [
      "Try entering a positive integer.\n"
     ]
    }
   ],
   "source": [
    "sumNatNum(1.5)"
   ]
  },
  {
   "cell_type": "code",
   "execution_count": 26,
   "id": "b7782508",
   "metadata": {},
   "outputs": [
    {
     "name": "stdout",
     "output_type": "stream",
     "text": [
      "Try entering a positive integer.\n"
     ]
    }
   ],
   "source": [
    "sumNatNum(-5)"
   ]
  },
  {
   "cell_type": "code",
   "execution_count": 27,
   "id": "1d7877ed",
   "metadata": {},
   "outputs": [
    {
     "data": {
      "text/plain": [
       "15"
      ]
     },
     "execution_count": 27,
     "metadata": {},
     "output_type": "execute_result"
    }
   ],
   "source": [
    "sumNatNum(5)"
   ]
  },
  {
   "cell_type": "code",
   "execution_count": 28,
   "id": "1bb56a34",
   "metadata": {},
   "outputs": [
    {
     "data": {
      "text/plain": [
       "5050"
      ]
     },
     "execution_count": 28,
     "metadata": {},
     "output_type": "execute_result"
    }
   ],
   "source": [
    "sumNatNum(100)"
   ]
  }
 ],
 "metadata": {
  "kernelspec": {
   "display_name": "Python 3 (ipykernel)",
   "language": "python",
   "name": "python3"
  },
  "language_info": {
   "codemirror_mode": {
    "name": "ipython",
    "version": 3
   },
   "file_extension": ".py",
   "mimetype": "text/x-python",
   "name": "python",
   "nbconvert_exporter": "python",
   "pygments_lexer": "ipython3",
   "version": "3.11.3"
  }
 },
 "nbformat": 4,
 "nbformat_minor": 5
}
