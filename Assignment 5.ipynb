{
 "cells": [
  {
   "cell_type": "markdown",
   "id": "144344d0",
   "metadata": {},
   "source": [
    "# Assignment 5"
   ]
  },
  {
   "cell_type": "markdown",
   "id": "9ddfa8a7",
   "metadata": {},
   "source": [
    "1. What does an empty dictionary&#39;s code look like?"
   ]
  },
  {
   "cell_type": "markdown",
   "id": "dc21d35d",
   "metadata": {},
   "source": [
    "Empty dictionary: {}"
   ]
  },
  {
   "cell_type": "markdown",
   "id": "03faa4ef",
   "metadata": {},
   "source": [
    "2. What is the value of a dictionary value with the key &#39;foo&#39; and the value 42?"
   ]
  },
  {
   "cell_type": "markdown",
   "id": "6a11d968",
   "metadata": {},
   "source": [
    "The value of {'foo': 42} is 42."
   ]
  },
  {
   "cell_type": "markdown",
   "id": "057ccf5d",
   "metadata": {},
   "source": [
    "3. What is the most significant distinction between a dictionary and a list?"
   ]
  },
  {
   "cell_type": "markdown",
   "id": "2de613d4",
   "metadata": {},
   "source": [
    "Dictionaries stores data as key-value pairs, while lists stores an ordered collection of values."
   ]
  },
  {
   "cell_type": "markdown",
   "id": "ac7624b4",
   "metadata": {},
   "source": [
    "4. What happens if you try to access spam[&#39;foo&#39;] if spam is {&#39;bar&#39;: 100}?"
   ]
  },
  {
   "cell_type": "markdown",
   "id": "c00fdb1c",
   "metadata": {},
   "source": [
    "You will get a KeyError since the key 'foo' doesn't exist in the dictionary 'spam'."
   ]
  },
  {
   "cell_type": "markdown",
   "id": "f8f26e05",
   "metadata": {},
   "source": [
    "5. If a dictionary is stored in spam, what is the difference between the expressions &#39;cat&#39; in spam and\n",
    "&#39;cat&#39; in spam.keys()?"
   ]
  },
  {
   "cell_type": "markdown",
   "id": "c9de6912",
   "metadata": {},
   "source": [
    "'cat' in spam checks if the key 'cat' exists in the dictionary 'spam'. 'cat' in spam.keys() also checks if the key 'cat' exists in the keys of the dictionary 'spam'. Both expressions are functionally equivalent. But, for 'cat' in spam.keys(), you are specifically checking if the key 'cat' exists in the dictionary. For 'cat' in spam, the expression, by default, checks if there is a key called 'cat' in the dictionary."
   ]
  },
  {
   "cell_type": "markdown",
   "id": "ee926bd7",
   "metadata": {},
   "source": [
    "6. If a dictionary is stored in spam, what is the difference between the expressions &#39;cat&#39; in spam and\n",
    "&#39;cat&#39; in spam.values()?"
   ]
  },
  {
   "cell_type": "markdown",
   "id": "786ae53c",
   "metadata": {},
   "source": [
    "'cat' in spam, by default, checks if the key 'cat' exists in the keys of the dictionary, while 'cat' in spam.values() specifically checks if the value 'cat' exists as a value in the dictionary."
   ]
  },
  {
   "cell_type": "markdown",
   "id": "faf44664",
   "metadata": {},
   "source": [
    "7. What is a shortcut for the following code?"
   ]
  },
  {
   "cell_type": "code",
   "execution_count": null,
   "id": "2e18ccc8",
   "metadata": {},
   "outputs": [],
   "source": [
    "if 'color' not in spam:\n",
    "    spam['color'] = 'black'"
   ]
  },
  {
   "cell_type": "code",
   "execution_count": null,
   "id": "fc88f987",
   "metadata": {},
   "outputs": [],
   "source": [
    "#Answer:\n",
    "spam.setdefault('color','black')"
   ]
  },
  {
   "cell_type": "markdown",
   "id": "4c0dc168",
   "metadata": {},
   "source": [
    "8. How do you &quot;pretty print&quot; dictionary values using which module and function?"
   ]
  },
  {
   "cell_type": "code",
   "execution_count": null,
   "id": "01acf640",
   "metadata": {},
   "outputs": [],
   "source": [
    "import pprint\n",
    "my_dict = {'a': [1,2,3,4,5], 'b': [6,7,8,9,10], 'c': [11,12,13,14,15], 'd': [16,17,18,19,20]}\n",
    "pprint.pprint(my_dict)"
   ]
  }
 ],
 "metadata": {
  "kernelspec": {
   "display_name": "Python 3 (ipykernel)",
   "language": "python",
   "name": "python3"
  },
  "language_info": {
   "codemirror_mode": {
    "name": "ipython",
    "version": 3
   },
   "file_extension": ".py",
   "mimetype": "text/x-python",
   "name": "python",
   "nbconvert_exporter": "python",
   "pygments_lexer": "ipython3",
   "version": "3.11.3"
  }
 },
 "nbformat": 4,
 "nbformat_minor": 5
}
